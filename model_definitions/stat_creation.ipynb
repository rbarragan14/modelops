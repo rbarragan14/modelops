{
 "cells": [
  {
   "cell_type": "code",
   "execution_count": null,
   "id": "dced6255-e75a-4f15-ae93-7f078bb025d9",
   "metadata": {},
   "outputs": [],
   "source": [
    "%pip install -q teradatamodelops==7.1.0"
   ]
  },
  {
   "cell_type": "code",
   "execution_count": null,
   "id": "595db926-755e-437e-b626-938a89e23809",
   "metadata": {},
   "outputs": [],
   "source": [
    "import subprocess\n",
    "import getpass\n",
    "\n",
    "password = getpass.getpass(\"enter password\")\n",
    "host = str(input(\"enter host\"))\n",
    "args = f\"tmo connection add -n 'connection1' -u 'demo_user' -p {password} -d 'modelops' --val-db 'val' --byom-db 'byom' -H {host} -l 'TDNEGO'\"\n",
    "try:\n",
    "    p = subprocess.run(args, check=True, shell=True, stdout=subprocess.PIPE, stderr=subprocess.PIPE)\n",
    "    print(p.stdout.decode())\n",
    "    print(p.stderr.decode())\n",
    "except Exception as e:\n",
    "    print(f\"Error: {e}\")"
   ]
  },
  {
   "cell_type": "code",
   "execution_count": null,
   "id": "730aab53-b88b-4d9f-9cb4-a15db316070d",
   "metadata": {},
   "outputs": [],
   "source": [
    "# List the connections\n",
    "import subprocess\n",
    "args = \"tmo connection list\"\n",
    "try:\n",
    "    p = subprocess.run(args, check=True, shell=True, stdout=subprocess.PIPE, stderr=subprocess.PIPE)\n",
    "    connection_list = p.stdout.decode().split(\"\\n\")\n",
    "    \n",
    "    print(f\"connection list: {connection_list}\")\n",
    "except Exception as e:\n",
    "    print(f\"Error: {e}\")"
   ]
  },
  {
   "cell_type": "code",
   "execution_count": null,
   "id": "aee0b365-606b-42da-90f7-3663fca32130",
   "metadata": {},
   "outputs": [],
   "source": [
    "import subprocess\n",
    "table_name = str(input(\"Enter table name to and create for computing stats\"))\n",
    "args = f\"tmo feature create-stats-table -m modelops.{table_name} -e\"\n",
    "connection_id = int(input(\"Enter connection Index: \"))\n",
    "p = subprocess.Popen(args, stdin=subprocess.PIPE,\n",
    "        stdout=subprocess.PIPE,\n",
    "        stderr=subprocess.PIPE,\n",
    "        text=True,\n",
    "        shell=True\n",
    ")\n",
    "try:\n",
    "    stdout, stderr = p.communicate(input=str(connection_id)+'\\n')  \n",
    "except subprocess.TimeoutExpired:\n",
    "    p.kill()\n",
    "    stdout, stderr = p.communicate()\n",
    "\n",
    "# Print the output and error messages\n",
    "print('STDOUT:', stdout)\n",
    "print('STDERR:', stderr)"
   ]
  },
  {
   "cell_type": "code",
   "execution_count": null,
   "id": "09e5b6d6-1399-4905-a7cc-758a5f21bd4e",
   "metadata": {},
   "outputs": [],
   "source": [
    "import subprocess\n",
    "args = f\"tmo feature compute-stats -s modelops.pima_patient_diagnoses -m modelops.{table_name} -t categorical -c hasdiabetes\"\n",
    "if not connection_id:\n",
    "    connection_id = int(input(\"Enter connection index: \"))\n",
    "p = subprocess.Popen(\n",
    "    args,\n",
    "    shell=True,\n",
    "    stdout=subprocess.PIPE,\n",
    "    stdin=subprocess.PIPE,\n",
    "    stderr=subprocess.PIPE,\n",
    "    text=True\n",
    ")\n",
    "try:\n",
    "    stdout, stderr = p.communicate(input=str(connection_id)+'\\n')  \n",
    "except subprocess.TimeoutExpired:\n",
    "    p.kill()\n",
    "    stdout, stderr = p.communicate()\n",
    "print(f\"stdout: {stdout}\")\n",
    "print(f\"stderr: {stderr}\")"
   ]
  },
  {
   "cell_type": "code",
   "execution_count": null,
   "id": "552b8120-317c-4c79-a7cc-6330bcb64c9c",
   "metadata": {},
   "outputs": [],
   "source": [
    "import subprocess\n",
    "args = f\"tmo feature compute-stats -s modelops.pima_patient_features -m modelops.{table_name} -t continuous -c numtimesprg,plglcconc,bloodp,skinthick,twohourserins,bmi,dipedfunc,age\"\n",
    "if not connection_id:\n",
    "    connection_id = int(input(\"Enter connection index: \"))\n",
    "p = subprocess.Popen(\n",
    "    args,\n",
    "    shell=True,\n",
    "    stdin=subprocess.PIPE,\n",
    "    stdout=subprocess.PIPE,\n",
    "    stderr=subprocess.PIPE,\n",
    "    text=True\n",
    ")\n",
    "\n",
    "try:\n",
    "    stdout, stderr = p.communicate(input=str(connection_id)+'\\n')  \n",
    "except Exception as e:\n",
    "    p.kill()\n",
    "    stdout, stderr = p.communicate()\n",
    "print(f\"stdout: {stdout}\")\n",
    "print(f\"stderr: {stderr}\")"
   ]
  },
  {
   "cell_type": "code",
   "execution_count": null,
   "id": "d513810c-5444-4379-a2a2-c542ee6ec58a",
   "metadata": {},
   "outputs": [],
   "source": []
  }
 ],
 "metadata": {
  "kernelspec": {
   "display_name": "Python 3 (ipykernel)",
   "language": "python",
   "name": "python3"
  },
  "language_info": {
   "codemirror_mode": {
    "name": "ipython",
    "version": 3
   },
   "file_extension": ".py",
   "mimetype": "text/x-python",
   "name": "python",
   "nbconvert_exporter": "python",
   "pygments_lexer": "ipython3",
   "version": "3.9.10"
  }
 },
 "nbformat": 4,
 "nbformat_minor": 5
}
