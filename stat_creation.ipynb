{
 "cells": [
  {
   "cell_type": "code",
   "execution_count": 3,
   "id": "dced6255-e75a-4f15-ae93-7f078bb025d9",
   "metadata": {},
   "outputs": [
    {
     "name": "stdout",
     "output_type": "stream",
     "text": [
      "Note: you may need to restart the kernel to use updated packages.\n"
     ]
    }
   ],
   "source": [
    "%pip install -q teradatamodelops==7.1.0"
   ]
  },
  {
   "cell_type": "code",
   "execution_count": 15,
   "id": "595db926-755e-437e-b626-938a89e23809",
   "metadata": {},
   "outputs": [
    {
     "name": "stdout",
     "output_type": "stream",
     "text": [
      "Error: Command 'tmo connection add -n 'connection' -u 'tdbacen' -p tdbacen -d 'tdbacen' --val-db 'val' --byom-db 'MLDB' -H 40.71.87.158 -l 'TDNEGO'' returned non-zero exit status 127.\n"
     ]
    }
   ],
   "source": [
    "import subprocess\n",
    "import getpass\n",
    "\n",
    "#password = getpass.getpass(\"enter password\")\n",
    "#host = str(input(\"enter host\"))\n",
    "\n",
    "password = \"tdbacen\"\n",
    "host = \"40.71.87.158\"\n",
    "\n",
    "args = f\"tmo connection add -n 'connection' -u 'tdbacen' -p {password} -d 'tdbacen' --val-db 'val' --byom-db 'MLDB' -H {host} -l 'TDNEGO'\"\n",
    "try:\n",
    "    p = subprocess.run(args, check=True, shell=True, stdout=subprocess.PIPE, stderr=subprocess.PIPE)\n",
    "    print(p.stdout.decode())\n",
    "    print(p.stderr.decode())\n",
    "except Exception as e:\n",
    "    print(f\"Error: {e}\")"
   ]
  },
  {
   "cell_type": "code",
   "execution_count": 16,
   "id": "730aab53-b88b-4d9f-9cb4-a15db316070d",
   "metadata": {},
   "outputs": [
    {
     "name": "stdout",
     "output_type": "stream",
     "text": [
      "Error: Command 'tmo connection list' returned non-zero exit status 127.\n"
     ]
    }
   ],
   "source": [
    "# List the connections\n",
    "import subprocess\n",
    "args = \"tmo connection list\"\n",
    "try:\n",
    "    p = subprocess.run(args, check=True, shell=True, stdout=subprocess.PIPE, stderr=subprocess.PIPE)\n",
    "    connection_list = p.stdout.decode().split(\"\\n\")\n",
    "    \n",
    "    print(f\"connection list: {connection_list}\")\n",
    "except Exception as e:\n",
    "    print(f\"Error: {e}\")"
   ]
  },
  {
   "cell_type": "code",
   "execution_count": 17,
   "id": "aee0b365-606b-42da-90f7-3663fca32130",
   "metadata": {},
   "outputs": [
    {
     "name": "stdin",
     "output_type": "stream",
     "text": [
      "Enter table name to and create for computing stats \n",
      "Enter connection Index:  \n"
     ]
    },
    {
     "ename": "ValueError",
     "evalue": "invalid literal for int() with base 10: ''",
     "output_type": "error",
     "traceback": [
      "\u001b[0;31m---------------------------------------------------------------------------\u001b[0m",
      "\u001b[0;31mValueError\u001b[0m                                Traceback (most recent call last)",
      "Cell \u001b[0;32mIn[17], line 4\u001b[0m\n\u001b[1;32m      2\u001b[0m table_name \u001b[38;5;241m=\u001b[39m \u001b[38;5;28mstr\u001b[39m(\u001b[38;5;28minput\u001b[39m(\u001b[38;5;124m\"\u001b[39m\u001b[38;5;124mEnter table name to and create for computing stats\u001b[39m\u001b[38;5;124m\"\u001b[39m))\n\u001b[1;32m      3\u001b[0m args \u001b[38;5;241m=\u001b[39m \u001b[38;5;124mf\u001b[39m\u001b[38;5;124m\"\u001b[39m\u001b[38;5;124mtmo feature create-stats-table -m modelops.\u001b[39m\u001b[38;5;132;01m{\u001b[39;00mtable_name\u001b[38;5;132;01m}\u001b[39;00m\u001b[38;5;124m -e\u001b[39m\u001b[38;5;124m\"\u001b[39m\n\u001b[0;32m----> 4\u001b[0m connection_id \u001b[38;5;241m=\u001b[39m \u001b[38;5;28;43mint\u001b[39;49m\u001b[43m(\u001b[49m\u001b[38;5;28;43minput\u001b[39;49m\u001b[43m(\u001b[49m\u001b[38;5;124;43m\"\u001b[39;49m\u001b[38;5;124;43mEnter connection Index: \u001b[39;49m\u001b[38;5;124;43m\"\u001b[39;49m\u001b[43m)\u001b[49m\u001b[43m)\u001b[49m\n\u001b[1;32m      5\u001b[0m p \u001b[38;5;241m=\u001b[39m subprocess\u001b[38;5;241m.\u001b[39mPopen(args, stdin\u001b[38;5;241m=\u001b[39msubprocess\u001b[38;5;241m.\u001b[39mPIPE,\n\u001b[1;32m      6\u001b[0m         stdout\u001b[38;5;241m=\u001b[39msubprocess\u001b[38;5;241m.\u001b[39mPIPE,\n\u001b[1;32m      7\u001b[0m         stderr\u001b[38;5;241m=\u001b[39msubprocess\u001b[38;5;241m.\u001b[39mPIPE,\n\u001b[1;32m      8\u001b[0m         text\u001b[38;5;241m=\u001b[39m\u001b[38;5;28;01mTrue\u001b[39;00m,\n\u001b[1;32m      9\u001b[0m         shell\u001b[38;5;241m=\u001b[39m\u001b[38;5;28;01mTrue\u001b[39;00m\n\u001b[1;32m     10\u001b[0m )\n\u001b[1;32m     11\u001b[0m \u001b[38;5;28;01mtry\u001b[39;00m:\n",
      "\u001b[0;31mValueError\u001b[0m: invalid literal for int() with base 10: ''"
     ]
    }
   ],
   "source": [
    "import subprocess\n",
    "table_name = str(input(\"Enter table name to and create for computing stats\"))\n",
    "args = f\"tmo feature create-stats-table -m modelops.{table_name} -e\"\n",
    "connection_id = int(input(\"Enter connection Index: \"))\n",
    "p = subprocess.Popen(args, stdin=subprocess.PIPE,\n",
    "        stdout=subprocess.PIPE,\n",
    "        stderr=subprocess.PIPE,\n",
    "        text=True,\n",
    "        shell=True\n",
    ")\n",
    "try:\n",
    "    stdout, stderr = p.communicate(input=str(connection_id)+'\\n')  \n",
    "except subprocess.TimeoutExpired:\n",
    "    p.kill()\n",
    "    stdout, stderr = p.communicate()\n",
    "\n",
    "# Print the output and error messages\n",
    "print('STDOUT:', stdout)\n",
    "print('STDERR:', stderr)"
   ]
  },
  {
   "cell_type": "code",
   "execution_count": 11,
   "id": "09e5b6d6-1399-4905-a7cc-758a5f21bd4e",
   "metadata": {},
   "outputs": [
    {
     "ename": "NameError",
     "evalue": "name 'connection_id' is not defined",
     "output_type": "error",
     "traceback": [
      "\u001b[0;31m---------------------------------------------------------------------------\u001b[0m",
      "\u001b[0;31mNameError\u001b[0m                                 Traceback (most recent call last)",
      "Cell \u001b[0;32mIn[11], line 3\u001b[0m\n\u001b[1;32m      1\u001b[0m \u001b[38;5;28;01mimport\u001b[39;00m \u001b[38;5;21;01msubprocess\u001b[39;00m\n\u001b[1;32m      2\u001b[0m args \u001b[38;5;241m=\u001b[39m \u001b[38;5;124mf\u001b[39m\u001b[38;5;124m\"\u001b[39m\u001b[38;5;124mtmo feature compute-stats -s modelops.pima_patient_diagnoses -m modelops.\u001b[39m\u001b[38;5;132;01m{\u001b[39;00mtable_name\u001b[38;5;132;01m}\u001b[39;00m\u001b[38;5;124m -t categorical -c hasdiabetes\u001b[39m\u001b[38;5;124m\"\u001b[39m\n\u001b[0;32m----> 3\u001b[0m \u001b[38;5;28;01mif\u001b[39;00m \u001b[38;5;129;01mnot\u001b[39;00m \u001b[43mconnection_id\u001b[49m:\n\u001b[1;32m      4\u001b[0m     connection_id \u001b[38;5;241m=\u001b[39m \u001b[38;5;28mint\u001b[39m(\u001b[38;5;28minput\u001b[39m(\u001b[38;5;124m\"\u001b[39m\u001b[38;5;124mEnter connection index: \u001b[39m\u001b[38;5;124m\"\u001b[39m))\n\u001b[1;32m      5\u001b[0m p \u001b[38;5;241m=\u001b[39m subprocess\u001b[38;5;241m.\u001b[39mPopen(\n\u001b[1;32m      6\u001b[0m     args,\n\u001b[1;32m      7\u001b[0m     shell\u001b[38;5;241m=\u001b[39m\u001b[38;5;28;01mTrue\u001b[39;00m,\n\u001b[0;32m   (...)\u001b[0m\n\u001b[1;32m     11\u001b[0m     text\u001b[38;5;241m=\u001b[39m\u001b[38;5;28;01mTrue\u001b[39;00m\n\u001b[1;32m     12\u001b[0m )\n",
      "\u001b[0;31mNameError\u001b[0m: name 'connection_id' is not defined"
     ]
    }
   ],
   "source": [
    "import subprocess\n",
    "#args = f\"tmo feature compute-stats -s modelops.pima_patient_diagnoses -m modelops.{table_name} -t categorical -c hasdiabetes\"\n",
    "args = f\"tmo feature compute-stats -s tdbacen.CreditRisk_dataset  -m tdbacen.riesgos_statistics_metadata -t categorical -c hasdiabetes\"\n",
    "if not connection_id:\n",
    "    connection_id = int(input(\"Enter connection index: \"))\n",
    "p = subprocess.Popen(\n",
    "    args,\n",
    "    shell=True,\n",
    "    stdout=subprocess.PIPE,\n",
    "    stdin=subprocess.PIPE,\n",
    "    stderr=subprocess.PIPE,\n",
    "    text=True\n",
    ")\n",
    "try:\n",
    "    stdout, stderr = p.communicate(input=str(connection_id)+'\\n')  \n",
    "except subprocess.TimeoutExpired:\n",
    "    p.kill()\n",
    "    stdout, stderr = p.communicate()\n",
    "print(f\"stdout: {stdout}\")\n",
    "print(f\"stderr: {stderr}\")"
   ]
  },
  {
   "cell_type": "code",
   "execution_count": null,
   "id": "552b8120-317c-4c79-a7cc-6330bcb64c9c",
   "metadata": {},
   "outputs": [],
   "source": [
    "import subprocess\n",
    "args = f\"tmo feature compute-stats -s modelops.pima_patient_features -m modelops.{table_name} -t continuous -c numtimesprg,plglcconc,bloodp,skinthick,twohourserins,bmi,dipedfunc,age\"\n",
    "if not connection_id:\n",
    "    connection_id = int(input(\"Enter connection index: \"))\n",
    "p = subprocess.Popen(\n",
    "    args,\n",
    "    shell=True,\n",
    "    stdin=subprocess.PIPE,\n",
    "    stdout=subprocess.PIPE,\n",
    "    stderr=subprocess.PIPE,\n",
    "    text=True\n",
    ")\n",
    "\n",
    "try:\n",
    "    stdout, stderr = p.communicate(input=str(connection_id)+'\\n')  \n",
    "except Exception as e:\n",
    "    p.kill()\n",
    "    stdout, stderr = p.communicate()\n",
    "print(f\"stdout: {stdout}\")\n",
    "print(f\"stderr: {stderr}\")"
   ]
  },
  {
   "cell_type": "code",
   "execution_count": null,
   "id": "d513810c-5444-4379-a2a2-c542ee6ec58a",
   "metadata": {},
   "outputs": [],
   "source": []
  }
 ],
 "metadata": {
  "kernelspec": {
   "display_name": "Python 3 (ipykernel)",
   "language": "python",
   "name": "python3"
  },
  "language_info": {
   "codemirror_mode": {
    "name": "ipython",
    "version": 3
   },
   "file_extension": ".py",
   "mimetype": "text/x-python",
   "name": "python",
   "nbconvert_exporter": "python",
   "pygments_lexer": "ipython3",
   "version": "3.9.16"
  }
 },
 "nbformat": 4,
 "nbformat_minor": 5
}
